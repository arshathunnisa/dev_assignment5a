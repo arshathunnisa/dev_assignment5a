{
 "cells": [
  {
   "cell_type": "code",
   "execution_count": 15,
   "id": "36aa6037",
   "metadata": {},
   "outputs": [
    {
     "data": {
      "text/plain": [
       "{'family members': ['khajamoheddin',\n",
       "  'karimunnisa',\n",
       "  'amreen',\n",
       "  'farha',\n",
       "  'kammal',\n",
       "  'zakir',\n",
       "  'parveen',\n",
       "  'siddiq',\n",
       "  'ameenakhathun',\n",
       "  'saheb']}"
      ]
     },
     "execution_count": 15,
     "metadata": {},
     "output_type": "execute_result"
    }
   ],
   "source": [
    "dictt={\"family members\":[\"khajamoheddin\",\"karimunnisa\",\"amreen\",\"farha\",\"kammal\",\"zakir\",\"parveen\",\"siddiq\",\"ameenakhathun\",\"saheb\"]}\n",
    "dictt"
   ]
  },
  {
   "cell_type": "code",
   "execution_count": 4,
   "id": "e78ad6c6",
   "metadata": {},
   "outputs": [
    {
     "name": "stdout",
     "output_type": "stream",
     "text": [
      "khajamoheddin\n",
      "siddiq\n",
      "favourite family member is siddiq\n"
     ]
    }
   ],
   "source": [
    "dictt={\"family members\":[\"khajamoheddin\",\"karimunnisa\",\"amreen\",\"farha\",\"kammal\",\"zakir\",\"parveen\",\"siddiq\",\"ameenakhathun\",\"saheb\"],\"relation\":[\"fathername\",\"mothername\",\"sister\",\"daughterinlaw\",\"soninlaw\",\"broinlaw\",\"aunt\",\"auncle\",\"grandmother\",\"grandfather\"]}\n",
    "print(dictt[\"family members\"][0])\n",
    "print(dictt[\"family members\"][7])\n",
    "print(\"favourite family member is\",dictt[\"family members\"][-3])\n"
   ]
  },
  {
   "cell_type": "code",
   "execution_count": 8,
   "id": "897e350f",
   "metadata": {},
   "outputs": [
    {
     "name": "stdout",
     "output_type": "stream",
     "text": [
      "intelligent friend name is samrin\n",
      "best friend name is ravi\n"
     ]
    }
   ],
   "source": [
    "dictt={\"friend_names\": [\"ravi\",\"shekar\", \"abbas\",\"jhonny\",\"sahithya\",\"eswari\",\"chandrika\",\"samrin\",\"anitha\",\"mounika\"],\"quality\" : [\"talk active\", \"anger\", \"intelligent\", \"funny\",\"joker\",\"silent\",\"silent killer\",\"sharper\",\"tallented\",\"best friend\"]}\n",
    "print(\"intelligent friend name is\",dictt[\"friend_names\"][-3])\n",
    "print(\"best friend name is\",dictt[\"friend_names\"][-10])"
   ]
  },
  {
   "cell_type": "code",
   "execution_count": 11,
   "id": "59531d77",
   "metadata": {},
   "outputs": [
    {
     "name": "stdout",
     "output_type": "stream",
     "text": [
      "rating 1 food name is Machher Jhol\n",
      "rating 1 food name is brinjal\n"
     ]
    }
   ],
   "source": [
    "dictt={\"veg_items\":[\" leafy greens\", \"asparagus\", \"broccoli\", \"tomatoes\", \"carrots\",\"brinjal\",\"potato\",\"laddysfinger\",\"drumstick\",\"bitterguard\"],\"ratings\": [1,2,3,4,5,6,7,8,9,10],\"nonveg_items\": [\"chicken\",\"mutton\",\"fish\",\"prance\",\"crabs\",\"Tandoori chicken\",\"Butter chicken\",\"Mutton curry\",\"Rogan josh\",\"Machher Jhol\"],\"ratings\": [9,8,7,6,4,5,3,2,1,2]}\n",
    "print(\"rating 1 food name is\",dictt[\"nonveg_items\"][9])\n",
    "print(\"rating 1 food name is\",dictt[\"veg_items\"][5])"
   ]
  },
  {
   "cell_type": "code",
   "execution_count": 12,
   "id": "4e6040ee",
   "metadata": {},
   "outputs": [
    {
     "name": "stdout",
     "output_type": "stream",
     "text": [
      "rating 3 city name is nellore\n"
     ]
    }
   ],
   "source": [
    "dictt={\"destination\" : [\"Visakhapatnam\",\"Vijayawada\",\"guntur\",\"nellore\",\"hyderabad\",\"vijayanagaram\",\"delhi\",\"machilipatnam\",\"agra\",\"mumbai\"],\"ratings\": [1,2,3,4,5,6,7,8,9,10]}\n",
    "print(\"rating 3 city name is\",dictt[\"destination\"][3])  "
   ]
  },
  {
   "cell_type": "code",
   "execution_count": null,
   "id": "b831de32",
   "metadata": {},
   "outputs": [],
   "source": [
    "\n"
   ]
  }
 ],
 "metadata": {
  "kernelspec": {
   "display_name": "Python 3 (ipykernel)",
   "language": "python",
   "name": "python3"
  },
  "language_info": {
   "codemirror_mode": {
    "name": "ipython",
    "version": 3
   },
   "file_extension": ".py",
   "mimetype": "text/x-python",
   "name": "python",
   "nbconvert_exporter": "python",
   "pygments_lexer": "ipython3",
   "version": "3.10.9"
  }
 },
 "nbformat": 4,
 "nbformat_minor": 5
}
